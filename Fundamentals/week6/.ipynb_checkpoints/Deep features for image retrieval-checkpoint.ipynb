{
 "metadata": {
  "name": ""
 },
 "nbformat": 3,
 "nbformat_minor": 0,
 "worksheets": [
  {
   "cells": [
    {
     "cell_type": "code",
     "collapsed": false,
     "input": [
      "import graphlab"
     ],
     "language": "python",
     "metadata": {},
     "outputs": [],
     "prompt_number": 1
    },
    {
     "cell_type": "markdown",
     "metadata": {},
     "source": [
      "#Load the CIFAR-10 dataset"
     ]
    },
    {
     "cell_type": "code",
     "collapsed": false,
     "input": [
      "image_train = graphlab.SFrame(\"image_train_data\")"
     ],
     "language": "python",
     "metadata": {},
     "outputs": [
      {
       "output_type": "stream",
       "stream": "stderr",
       "text": [
        "/home/uzumaki/Desktop/MachineLearningSpecalization/Fundamentals/virtualEnv/lib/python2.7/site-packages/requests/packages/urllib3/util/ssl_.py:315: SNIMissingWarning: An HTTPS request has been made, but the SNI (Subject Name Indication) extension to TLS is not available on this platform. This may cause the server to present an incorrect TLS certificate, which can cause validation failures. For more information, see https://urllib3.readthedocs.org/en/latest/security.html#snimissingwarning.\n",
        "  SNIMissingWarning\n",
        "/home/uzumaki/Desktop/MachineLearningSpecalization/Fundamentals/virtualEnv/lib/python2.7/site-packages/requests/packages/urllib3/util/ssl_.py:120: InsecurePlatformWarning: A true SSLContext object is not available. This prevents urllib3 from configuring SSL appropriately and may cause certain SSL connections to fail. For more information, see https://urllib3.readthedocs.org/en/latest/security.html#insecureplatformwarning.\n",
        "  InsecurePlatformWarning\n",
        "[INFO] graphlab.cython.cy_server: GraphLab Create v2.1 started. Logging: /tmp/graphlab_server_1472196585.log\n"
       ]
      },
      {
       "output_type": "stream",
       "stream": "stderr",
       "text": [
        "INFO:graphlab.cython.cy_server:GraphLab Create v2.1 started. Logging: /tmp/graphlab_server_1472196585.log\n"
       ]
      },
      {
       "output_type": "stream",
       "stream": "stdout",
       "text": [
        "This non-commercial license of GraphLab Create for academic use is assigned to a.p.dhanushu@gmail.com and will expire on August 19, 2017.\n"
       ]
      }
     ],
     "prompt_number": 2
    },
    {
     "cell_type": "code",
     "collapsed": false,
     "input": [
      "image_train.head()"
     ],
     "language": "python",
     "metadata": {},
     "outputs": [
      {
       "html": [
        "<div style=\"max-height:1000px;max-width:1500px;overflow:auto;\"><table frame=\"box\" rules=\"cols\">\n",
        "    <tr>\n",
        "        <th style=\"padding-left: 1em; padding-right: 1em; text-align: center\">id</th>\n",
        "        <th style=\"padding-left: 1em; padding-right: 1em; text-align: center\">image</th>\n",
        "        <th style=\"padding-left: 1em; padding-right: 1em; text-align: center\">label</th>\n",
        "        <th style=\"padding-left: 1em; padding-right: 1em; text-align: center\">deep_features</th>\n",
        "        <th style=\"padding-left: 1em; padding-right: 1em; text-align: center\">image_array</th>\n",
        "    </tr>\n",
        "    <tr>\n",
        "        <td style=\"padding-left: 1em; padding-right: 1em; text-align: center; vertical-align: top\">24</td>\n",
        "        <td style=\"padding-left: 1em; padding-right: 1em; text-align: center; vertical-align: top\">Height: 32 Width: 32</td>\n",
        "        <td style=\"padding-left: 1em; padding-right: 1em; text-align: center; vertical-align: top\">bird</td>\n",
        "        <td style=\"padding-left: 1em; padding-right: 1em; text-align: center; vertical-align: top\">[0.242871761322,<br>1.09545373917, 0.0, ...</td>\n",
        "        <td style=\"padding-left: 1em; padding-right: 1em; text-align: center; vertical-align: top\">[73.0, 77.0, 58.0, 71.0,<br>68.0, 50.0, 77.0, 69.0, ...</td>\n",
        "    </tr>\n",
        "    <tr>\n",
        "        <td style=\"padding-left: 1em; padding-right: 1em; text-align: center; vertical-align: top\">33</td>\n",
        "        <td style=\"padding-left: 1em; padding-right: 1em; text-align: center; vertical-align: top\">Height: 32 Width: 32</td>\n",
        "        <td style=\"padding-left: 1em; padding-right: 1em; text-align: center; vertical-align: top\">cat</td>\n",
        "        <td style=\"padding-left: 1em; padding-right: 1em; text-align: center; vertical-align: top\">[0.525087952614, 0.0,<br>0.0, 0.0, 0.0, 0.0, ...</td>\n",
        "        <td style=\"padding-left: 1em; padding-right: 1em; text-align: center; vertical-align: top\">[7.0, 5.0, 8.0, 7.0, 5.0,<br>8.0, 5.0, 4.0, 6.0, 7.0, ...</td>\n",
        "    </tr>\n",
        "    <tr>\n",
        "        <td style=\"padding-left: 1em; padding-right: 1em; text-align: center; vertical-align: top\">36</td>\n",
        "        <td style=\"padding-left: 1em; padding-right: 1em; text-align: center; vertical-align: top\">Height: 32 Width: 32</td>\n",
        "        <td style=\"padding-left: 1em; padding-right: 1em; text-align: center; vertical-align: top\">cat</td>\n",
        "        <td style=\"padding-left: 1em; padding-right: 1em; text-align: center; vertical-align: top\">[0.566015958786, 0.0,<br>0.0, 0.0, 0.0, 0.0, ...</td>\n",
        "        <td style=\"padding-left: 1em; padding-right: 1em; text-align: center; vertical-align: top\">[169.0, 122.0, 65.0,<br>131.0, 108.0, 75.0, ...</td>\n",
        "    </tr>\n",
        "    <tr>\n",
        "        <td style=\"padding-left: 1em; padding-right: 1em; text-align: center; vertical-align: top\">70</td>\n",
        "        <td style=\"padding-left: 1em; padding-right: 1em; text-align: center; vertical-align: top\">Height: 32 Width: 32</td>\n",
        "        <td style=\"padding-left: 1em; padding-right: 1em; text-align: center; vertical-align: top\">dog</td>\n",
        "        <td style=\"padding-left: 1em; padding-right: 1em; text-align: center; vertical-align: top\">[1.12979578972, 0.0, 0.0,<br>0.778194487095, 0.0, ...</td>\n",
        "        <td style=\"padding-left: 1em; padding-right: 1em; text-align: center; vertical-align: top\">[154.0, 179.0, 152.0,<br>159.0, 183.0, 157.0, ...</td>\n",
        "    </tr>\n",
        "    <tr>\n",
        "        <td style=\"padding-left: 1em; padding-right: 1em; text-align: center; vertical-align: top\">90</td>\n",
        "        <td style=\"padding-left: 1em; padding-right: 1em; text-align: center; vertical-align: top\">Height: 32 Width: 32</td>\n",
        "        <td style=\"padding-left: 1em; padding-right: 1em; text-align: center; vertical-align: top\">bird</td>\n",
        "        <td style=\"padding-left: 1em; padding-right: 1em; text-align: center; vertical-align: top\">[1.71786928177, 0.0, 0.0,<br>0.0, 0.0, 0.0, ...</td>\n",
        "        <td style=\"padding-left: 1em; padding-right: 1em; text-align: center; vertical-align: top\">[216.0, 195.0, 180.0,<br>201.0, 178.0, 160.0, ...</td>\n",
        "    </tr>\n",
        "    <tr>\n",
        "        <td style=\"padding-left: 1em; padding-right: 1em; text-align: center; vertical-align: top\">97</td>\n",
        "        <td style=\"padding-left: 1em; padding-right: 1em; text-align: center; vertical-align: top\">Height: 32 Width: 32</td>\n",
        "        <td style=\"padding-left: 1em; padding-right: 1em; text-align: center; vertical-align: top\">automobile</td>\n",
        "        <td style=\"padding-left: 1em; padding-right: 1em; text-align: center; vertical-align: top\">[1.57818555832, 0.0, 0.0,<br>0.0, 0.0, 0.0, ...</td>\n",
        "        <td style=\"padding-left: 1em; padding-right: 1em; text-align: center; vertical-align: top\">[33.0, 44.0, 27.0, 29.0,<br>44.0, 31.0, 32.0, 45.0, ...</td>\n",
        "    </tr>\n",
        "    <tr>\n",
        "        <td style=\"padding-left: 1em; padding-right: 1em; text-align: center; vertical-align: top\">107</td>\n",
        "        <td style=\"padding-left: 1em; padding-right: 1em; text-align: center; vertical-align: top\">Height: 32 Width: 32</td>\n",
        "        <td style=\"padding-left: 1em; padding-right: 1em; text-align: center; vertical-align: top\">dog</td>\n",
        "        <td style=\"padding-left: 1em; padding-right: 1em; text-align: center; vertical-align: top\">[0.0, 0.0,<br>0.220677852631, 0.0,  ...</td>\n",
        "        <td style=\"padding-left: 1em; padding-right: 1em; text-align: center; vertical-align: top\">[97.0, 51.0, 31.0, 104.0,<br>58.0, 38.0, 107.0, 61.0, ...</td>\n",
        "    </tr>\n",
        "    <tr>\n",
        "        <td style=\"padding-left: 1em; padding-right: 1em; text-align: center; vertical-align: top\">121</td>\n",
        "        <td style=\"padding-left: 1em; padding-right: 1em; text-align: center; vertical-align: top\">Height: 32 Width: 32</td>\n",
        "        <td style=\"padding-left: 1em; padding-right: 1em; text-align: center; vertical-align: top\">bird</td>\n",
        "        <td style=\"padding-left: 1em; padding-right: 1em; text-align: center; vertical-align: top\">[0.0, 0.23753464222, 0.0,<br>0.0, 0.0, 0.0, ...</td>\n",
        "        <td style=\"padding-left: 1em; padding-right: 1em; text-align: center; vertical-align: top\">[93.0, 96.0, 88.0, 102.0,<br>106.0, 97.0, 117.0, ...</td>\n",
        "    </tr>\n",
        "    <tr>\n",
        "        <td style=\"padding-left: 1em; padding-right: 1em; text-align: center; vertical-align: top\">136</td>\n",
        "        <td style=\"padding-left: 1em; padding-right: 1em; text-align: center; vertical-align: top\">Height: 32 Width: 32</td>\n",
        "        <td style=\"padding-left: 1em; padding-right: 1em; text-align: center; vertical-align: top\">automobile</td>\n",
        "        <td style=\"padding-left: 1em; padding-right: 1em; text-align: center; vertical-align: top\">[0.0, 0.0, 0.0, 0.0, 0.0,<br>0.0, 7.5737862587, 0.0, ...</td>\n",
        "        <td style=\"padding-left: 1em; padding-right: 1em; text-align: center; vertical-align: top\">[35.0, 59.0, 53.0, 36.0,<br>56.0, 56.0, 42.0, 62.0, ...</td>\n",
        "    </tr>\n",
        "    <tr>\n",
        "        <td style=\"padding-left: 1em; padding-right: 1em; text-align: center; vertical-align: top\">138</td>\n",
        "        <td style=\"padding-left: 1em; padding-right: 1em; text-align: center; vertical-align: top\">Height: 32 Width: 32</td>\n",
        "        <td style=\"padding-left: 1em; padding-right: 1em; text-align: center; vertical-align: top\">bird</td>\n",
        "        <td style=\"padding-left: 1em; padding-right: 1em; text-align: center; vertical-align: top\">[0.658935725689, 0.0,<br>0.0, 0.0, 0.0, 0.0, ...</td>\n",
        "        <td style=\"padding-left: 1em; padding-right: 1em; text-align: center; vertical-align: top\">[205.0, 193.0, 195.0,<br>200.0, 187.0, 193.0, ...</td>\n",
        "    </tr>\n",
        "</table>\n",
        "[10 rows x 5 columns]<br/>\n",
        "</div>"
       ],
       "metadata": {},
       "output_type": "pyout",
       "prompt_number": 3,
       "text": [
        "Columns:\n",
        "\tid\tint\n",
        "\timage\tImage\n",
        "\tlabel\tstr\n",
        "\tdeep_features\tarray\n",
        "\timage_array\tarray\n",
        "\n",
        "Rows: 10\n",
        "\n",
        "Data:\n",
        "+-----+----------------------+------------+-------------------------------+\n",
        "|  id |        image         |   label    |         deep_features         |\n",
        "+-----+----------------------+------------+-------------------------------+\n",
        "|  24 | Height: 32 Width: 32 |    bird    | [0.242871761322, 1.0954537... |\n",
        "|  33 | Height: 32 Width: 32 |    cat     | [0.525087952614, 0.0, 0.0,... |\n",
        "|  36 | Height: 32 Width: 32 |    cat     | [0.566015958786, 0.0, 0.0,... |\n",
        "|  70 | Height: 32 Width: 32 |    dog     | [1.12979578972, 0.0, 0.0, ... |\n",
        "|  90 | Height: 32 Width: 32 |    bird    | [1.71786928177, 0.0, 0.0, ... |\n",
        "|  97 | Height: 32 Width: 32 | automobile | [1.57818555832, 0.0, 0.0, ... |\n",
        "| 107 | Height: 32 Width: 32 |    dog     | [0.0, 0.0, 0.220677852631,... |\n",
        "| 121 | Height: 32 Width: 32 |    bird    | [0.0, 0.23753464222, 0.0, ... |\n",
        "| 136 | Height: 32 Width: 32 | automobile | [0.0, 0.0, 0.0, 0.0, 0.0, ... |\n",
        "| 138 | Height: 32 Width: 32 |    bird    | [0.658935725689, 0.0, 0.0,... |\n",
        "+-----+----------------------+------------+-------------------------------+\n",
        "+-------------------------------+\n",
        "|          image_array          |\n",
        "+-------------------------------+\n",
        "| [73.0, 77.0, 58.0, 71.0, 6... |\n",
        "| [7.0, 5.0, 8.0, 7.0, 5.0, ... |\n",
        "| [169.0, 122.0, 65.0, 131.0... |\n",
        "| [154.0, 179.0, 152.0, 159.... |\n",
        "| [216.0, 195.0, 180.0, 201.... |\n",
        "| [33.0, 44.0, 27.0, 29.0, 4... |\n",
        "| [97.0, 51.0, 31.0, 104.0, ... |\n",
        "| [93.0, 96.0, 88.0, 102.0, ... |\n",
        "| [35.0, 59.0, 53.0, 36.0, 5... |\n",
        "| [205.0, 193.0, 195.0, 200.... |\n",
        "+-------------------------------+\n",
        "[10 rows x 5 columns]\n"
       ]
      }
     ],
     "prompt_number": 3
    },
    {
     "cell_type": "markdown",
     "metadata": {},
     "source": [
      "#Train a nearest neighbours model for retrieving images with deep features"
     ]
    },
    {
     "cell_type": "code",
     "collapsed": false,
     "input": [
      "knn_model = graphlab.nearest_neighbors.create(image_train,features=[\"deep_features\"],label=\"id\")"
     ],
     "language": "python",
     "metadata": {},
     "outputs": [
      {
       "output_type": "stream",
       "stream": "stdout",
       "text": [
        "Starting brute force nearest neighbors model training.\n"
       ]
      }
     ],
     "prompt_number": 4
    },
    {
     "cell_type": "markdown",
     "metadata": {},
     "source": [
      "#Use image retrieval model with deep features to find similar images"
     ]
    },
    {
     "cell_type": "code",
     "collapsed": false,
     "input": [
      "cat = image_train[18:19]\n",
      "cat[\"image\"].show()"
     ],
     "language": "python",
     "metadata": {},
     "outputs": [
      {
       "output_type": "stream",
       "stream": "stdout",
       "text": [
        "Canvas is accessible via web browser at the URL: http://localhost:53716/index.html\n",
        "Opening Canvas in default web browser.\n"
       ]
      }
     ],
     "prompt_number": 5
    },
    {
     "cell_type": "code",
     "collapsed": false,
     "input": [
      "knn_model.query(cat)"
     ],
     "language": "python",
     "metadata": {},
     "outputs": [
      {
       "output_type": "stream",
       "stream": "stdout",
       "text": [
        "Starting pairwise querying.\n",
        "+--------------+---------+-------------+--------------+\n",
        "| Query points | # Pairs | % Complete. | Elapsed Time |\n",
        "+--------------+---------+-------------+--------------+\n",
        "| 0            | 1       | 0.0498753   | 75.219ms     |\n",
        "| Done         |         | 100         | 406.878ms    |\n",
        "+--------------+---------+-------------+--------------+\n"
       ]
      },
      {
       "html": [
        "<div style=\"max-height:1000px;max-width:1500px;overflow:auto;\"><table frame=\"box\" rules=\"cols\">\n",
        "    <tr>\n",
        "        <th style=\"padding-left: 1em; padding-right: 1em; text-align: center\">query_label</th>\n",
        "        <th style=\"padding-left: 1em; padding-right: 1em; text-align: center\">reference_label</th>\n",
        "        <th style=\"padding-left: 1em; padding-right: 1em; text-align: center\">distance</th>\n",
        "        <th style=\"padding-left: 1em; padding-right: 1em; text-align: center\">rank</th>\n",
        "    </tr>\n",
        "    <tr>\n",
        "        <td style=\"padding-left: 1em; padding-right: 1em; text-align: center; vertical-align: top\">0</td>\n",
        "        <td style=\"padding-left: 1em; padding-right: 1em; text-align: center; vertical-align: top\">384</td>\n",
        "        <td style=\"padding-left: 1em; padding-right: 1em; text-align: center; vertical-align: top\">0.0</td>\n",
        "        <td style=\"padding-left: 1em; padding-right: 1em; text-align: center; vertical-align: top\">1</td>\n",
        "    </tr>\n",
        "    <tr>\n",
        "        <td style=\"padding-left: 1em; padding-right: 1em; text-align: center; vertical-align: top\">0</td>\n",
        "        <td style=\"padding-left: 1em; padding-right: 1em; text-align: center; vertical-align: top\">6910</td>\n",
        "        <td style=\"padding-left: 1em; padding-right: 1em; text-align: center; vertical-align: top\">36.9403137951</td>\n",
        "        <td style=\"padding-left: 1em; padding-right: 1em; text-align: center; vertical-align: top\">2</td>\n",
        "    </tr>\n",
        "    <tr>\n",
        "        <td style=\"padding-left: 1em; padding-right: 1em; text-align: center; vertical-align: top\">0</td>\n",
        "        <td style=\"padding-left: 1em; padding-right: 1em; text-align: center; vertical-align: top\">39777</td>\n",
        "        <td style=\"padding-left: 1em; padding-right: 1em; text-align: center; vertical-align: top\">38.4634888975</td>\n",
        "        <td style=\"padding-left: 1em; padding-right: 1em; text-align: center; vertical-align: top\">3</td>\n",
        "    </tr>\n",
        "    <tr>\n",
        "        <td style=\"padding-left: 1em; padding-right: 1em; text-align: center; vertical-align: top\">0</td>\n",
        "        <td style=\"padding-left: 1em; padding-right: 1em; text-align: center; vertical-align: top\">36870</td>\n",
        "        <td style=\"padding-left: 1em; padding-right: 1em; text-align: center; vertical-align: top\">39.7559623119</td>\n",
        "        <td style=\"padding-left: 1em; padding-right: 1em; text-align: center; vertical-align: top\">4</td>\n",
        "    </tr>\n",
        "    <tr>\n",
        "        <td style=\"padding-left: 1em; padding-right: 1em; text-align: center; vertical-align: top\">0</td>\n",
        "        <td style=\"padding-left: 1em; padding-right: 1em; text-align: center; vertical-align: top\">41734</td>\n",
        "        <td style=\"padding-left: 1em; padding-right: 1em; text-align: center; vertical-align: top\">39.7866014148</td>\n",
        "        <td style=\"padding-left: 1em; padding-right: 1em; text-align: center; vertical-align: top\">5</td>\n",
        "    </tr>\n",
        "</table>\n",
        "[5 rows x 4 columns]<br/>\n",
        "</div>"
       ],
       "metadata": {},
       "output_type": "pyout",
       "prompt_number": 6,
       "text": [
        "Columns:\n",
        "\tquery_label\tint\n",
        "\treference_label\tint\n",
        "\tdistance\tfloat\n",
        "\trank\tint\n",
        "\n",
        "Rows: 5\n",
        "\n",
        "Data:\n",
        "+-------------+-----------------+---------------+------+\n",
        "| query_label | reference_label |    distance   | rank |\n",
        "+-------------+-----------------+---------------+------+\n",
        "|      0      |       384       |      0.0      |  1   |\n",
        "|      0      |       6910      | 36.9403137951 |  2   |\n",
        "|      0      |      39777      | 38.4634888975 |  3   |\n",
        "|      0      |      36870      | 39.7559623119 |  4   |\n",
        "|      0      |      41734      | 39.7866014148 |  5   |\n",
        "+-------------+-----------------+---------------+------+\n",
        "[5 rows x 4 columns]\n"
       ]
      }
     ],
     "prompt_number": 6
    },
    {
     "cell_type": "code",
     "collapsed": false,
     "input": [
      "def get_images_from_ids(query_result):\n",
      "    return image_train.filter_by(query_result[\"reference_label\"],\"id\")"
     ],
     "language": "python",
     "metadata": {},
     "outputs": [],
     "prompt_number": 7
    },
    {
     "cell_type": "code",
     "collapsed": false,
     "input": [
      "cat_neighbours = get_images_from_ids(knn_model.query(cat))"
     ],
     "language": "python",
     "metadata": {},
     "outputs": [
      {
       "output_type": "stream",
       "stream": "stdout",
       "text": [
        "Starting pairwise querying.\n",
        "+--------------+---------+-------------+--------------+\n",
        "| Query points | # Pairs | % Complete. | Elapsed Time |\n",
        "+--------------+---------+-------------+--------------+\n",
        "| 0            | 1       | 0.0498753   | 35.46ms      |\n",
        "| Done         |         | 100         | 385.736ms    |\n",
        "+--------------+---------+-------------+--------------+\n"
       ]
      }
     ],
     "prompt_number": 8
    },
    {
     "cell_type": "code",
     "collapsed": false,
     "input": [
      "cat_neighbours[\"image\"].show()"
     ],
     "language": "python",
     "metadata": {},
     "outputs": [
      {
       "output_type": "stream",
       "stream": "stdout",
       "text": [
        "Canvas is accessible via web browser at the URL: http://localhost:53716/index.html\n",
        "Opening Canvas in default web browser.\n"
       ]
      }
     ],
     "prompt_number": 9
    },
    {
     "cell_type": "code",
     "collapsed": false,
     "input": [
      "car = image_train[8:9]\n",
      "car[\"image\"].show()"
     ],
     "language": "python",
     "metadata": {},
     "outputs": [
      {
       "output_type": "stream",
       "stream": "stdout",
       "text": [
        "Canvas is updated and available in a tab in the default browser.\n"
       ]
      }
     ],
     "prompt_number": 10
    },
    {
     "cell_type": "code",
     "collapsed": false,
     "input": [
      "get_images_from_ids(knn_model.query(car))[\"image\"].show()"
     ],
     "language": "python",
     "metadata": {},
     "outputs": [
      {
       "output_type": "stream",
       "stream": "stdout",
       "text": [
        "Starting pairwise querying.\n",
        "+--------------+---------+-------------+--------------+\n",
        "| Query points | # Pairs | % Complete. | Elapsed Time |\n",
        "+--------------+---------+-------------+--------------+\n",
        "| 0            | 1       | 0.0498753   | 36.299ms     |\n",
        "| Done         |         | 100         | 366.232ms    |\n",
        "+--------------+---------+-------------+--------------+\n",
        "Canvas is updated and available in a tab in the default browser."
       ]
      },
      {
       "output_type": "stream",
       "stream": "stdout",
       "text": [
        "\n"
       ]
      }
     ],
     "prompt_number": 11
    },
    {
     "cell_type": "markdown",
     "metadata": {},
     "source": [
      "#Just for fun let's create a lambda to find and show nearest neighbours"
     ]
    },
    {
     "cell_type": "code",
     "collapsed": false,
     "input": [
      "show_neighbours = lambda i : get_images_from_ids(knn_model.query(image_train[i:i+1]))[\"image\"].show()"
     ],
     "language": "python",
     "metadata": {},
     "outputs": [],
     "prompt_number": 12
    },
    {
     "cell_type": "code",
     "collapsed": false,
     "input": [
      "show_neighbours(8)"
     ],
     "language": "python",
     "metadata": {},
     "outputs": [
      {
       "output_type": "stream",
       "stream": "stdout",
       "text": [
        "Starting pairwise querying.\n",
        "+--------------+---------+-------------+--------------+\n",
        "| Query points | # Pairs | % Complete. | Elapsed Time |\n",
        "+--------------+---------+-------------+--------------+\n",
        "| 0            | 1       | 0.0498753   | 33.621ms     |\n",
        "| Done         |         | 100         | 355.333ms    |\n",
        "+--------------+---------+-------------+--------------+\n",
        "Canvas is updated and available in a tab in the default browser."
       ]
      },
      {
       "output_type": "stream",
       "stream": "stdout",
       "text": [
        "\n"
       ]
      }
     ],
     "prompt_number": 13
    },
    {
     "cell_type": "code",
     "collapsed": false,
     "input": [
      "show_neighbours(26)"
     ],
     "language": "python",
     "metadata": {},
     "outputs": [
      {
       "output_type": "stream",
       "stream": "stdout",
       "text": [
        "Starting pairwise querying.\n",
        "+--------------+---------+-------------+--------------+\n",
        "| Query points | # Pairs | % Complete. | Elapsed Time |\n",
        "+--------------+---------+-------------+--------------+\n",
        "| 0            | 1       | 0.0498753   | 33.517ms     |\n",
        "| Done         |         | 100         | 302.987ms    |\n",
        "+--------------+---------+-------------+--------------+\n",
        "Canvas is updated and available in a tab in the default browser."
       ]
      },
      {
       "output_type": "stream",
       "stream": "stdout",
       "text": [
        "\n"
       ]
      }
     ],
     "prompt_number": 14
    },
    {
     "cell_type": "code",
     "collapsed": false,
     "input": [
      "show_neighbours(1222)"
     ],
     "language": "python",
     "metadata": {},
     "outputs": [
      {
       "output_type": "stream",
       "stream": "stdout",
       "text": [
        "Starting pairwise querying.\n",
        "+--------------+---------+-------------+--------------+\n",
        "| Query points | # Pairs | % Complete. | Elapsed Time |\n",
        "+--------------+---------+-------------+--------------+\n",
        "| 0            | 1       | 0.0498753   | 33.1ms       |\n",
        "| Done         |         | 100         | 306.229ms    |\n",
        "+--------------+---------+-------------+--------------+\n",
        "Canvas is updated and available in a tab in the default browser."
       ]
      },
      {
       "output_type": "stream",
       "stream": "stdout",
       "text": [
        "\n"
       ]
      }
     ],
     "prompt_number": 15
    },
    {
     "cell_type": "code",
     "collapsed": false,
     "input": [
      "show_neighbours(2000)"
     ],
     "language": "python",
     "metadata": {},
     "outputs": [
      {
       "output_type": "stream",
       "stream": "stdout",
       "text": [
        "Starting pairwise querying.\n",
        "+--------------+---------+-------------+--------------+\n",
        "| Query points | # Pairs | % Complete. | Elapsed Time |\n",
        "+--------------+---------+-------------+--------------+\n",
        "| 0            | 1       | 0.0498753   | 28.906ms     |\n",
        "| Done         |         | 100         | 304.432ms    |\n",
        "+--------------+---------+-------------+--------------+\n",
        "Canvas is updated and available in a tab in the default browser."
       ]
      },
      {
       "output_type": "stream",
       "stream": "stdout",
       "text": [
        "\n"
       ]
      }
     ],
     "prompt_number": 16
    },
    {
     "cell_type": "markdown",
     "metadata": {},
     "source": [
      "#Assignment starts here"
     ]
    },
    {
     "cell_type": "markdown",
     "metadata": {},
     "source": [
      "##Summary statistics"
     ]
    },
    {
     "cell_type": "code",
     "collapsed": false,
     "input": [
      "image_train[\"label\"].sketch_summary()\n",
      "#Least common category bird"
     ],
     "language": "python",
     "metadata": {},
     "outputs": [
      {
       "metadata": {},
       "output_type": "pyout",
       "prompt_number": 17,
       "text": [
        "\n",
        "+------------------+-------+----------+\n",
        "|       item       | value | is exact |\n",
        "+------------------+-------+----------+\n",
        "|      Length      |  2005 |   Yes    |\n",
        "| # Missing Values |   0   |   Yes    |\n",
        "| # unique values  |   4   |    No    |\n",
        "+------------------+-------+----------+\n",
        "\n",
        "Most frequent items:\n",
        "+-------+------------+-----+-----+------+\n",
        "| value | automobile | cat | dog | bird |\n",
        "+-------+------------+-----+-----+------+\n",
        "| count |    509     | 509 | 509 | 478  |\n",
        "+-------+------------+-----+-----+------+\n",
        "\n"
       ]
      }
     ],
     "prompt_number": 17
    },
    {
     "cell_type": "code",
     "collapsed": false,
     "input": [
      "dog_data = image_train.filter_by(\"dog\",\"label\")\n",
      "cat_data = image_train.filter_by(\"cat\",\"label\")\n",
      "bird_data = image_train.filter_by(\"bird\",\"label\")\n",
      "automobile_data = image_train.filter_by(\"automobile\",\"label\")"
     ],
     "language": "python",
     "metadata": {},
     "outputs": [],
     "prompt_number": 18
    },
    {
     "cell_type": "code",
     "collapsed": false,
     "input": [
      "dog_model = graphlab.nearest_neighbors.create(dog_data,features=[\"deep_features\"],label=\"id\")"
     ],
     "language": "python",
     "metadata": {},
     "outputs": [
      {
       "output_type": "stream",
       "stream": "stdout",
       "text": [
        "Starting brute force nearest neighbors model training.\n"
       ]
      }
     ],
     "prompt_number": 19
    },
    {
     "cell_type": "code",
     "collapsed": false,
     "input": [
      "cat_model = graphlab.nearest_neighbors.create(cat_data,features=[\"deep_features\"],label=\"id\")"
     ],
     "language": "python",
     "metadata": {},
     "outputs": [
      {
       "output_type": "stream",
       "stream": "stdout",
       "text": [
        "Starting brute force nearest neighbors model training.\n"
       ]
      }
     ],
     "prompt_number": 20
    },
    {
     "cell_type": "code",
     "collapsed": false,
     "input": [
      "bird_model = graphlab.nearest_neighbors.create(bird_data,features=[\"deep_features\"],label=\"id\")"
     ],
     "language": "python",
     "metadata": {},
     "outputs": [
      {
       "output_type": "stream",
       "stream": "stdout",
       "text": [
        "Starting brute force nearest neighbors model training.\n"
       ]
      }
     ],
     "prompt_number": 21
    },
    {
     "cell_type": "code",
     "collapsed": false,
     "input": [
      "automobile_model = graphlab.nearest_neighbors.create(automobile_data,features=[\"deep_features\"],label=\"id\")"
     ],
     "language": "python",
     "metadata": {},
     "outputs": [
      {
       "output_type": "stream",
       "stream": "stdout",
       "text": [
        "Starting brute force nearest neighbors model training.\n"
       ]
      }
     ],
     "prompt_number": 22
    },
    {
     "cell_type": "code",
     "collapsed": false,
     "input": [
      "image_test = graphlab.SFrame(\"image_test_data\")"
     ],
     "language": "python",
     "metadata": {},
     "outputs": [],
     "prompt_number": 23
    },
    {
     "cell_type": "code",
     "collapsed": false,
     "input": [
      "image_test[0:1][\"image\"].show()"
     ],
     "language": "python",
     "metadata": {},
     "outputs": [
      {
       "output_type": "stream",
       "stream": "stdout",
       "text": [
        "Canvas is updated and available in a tab in the default browser.\n"
       ]
      }
     ],
     "prompt_number": 61
    },
    {
     "cell_type": "code",
     "collapsed": false,
     "input": [
      "#Nearest cat\n",
      "cat_model.query(image_test[0:1])"
     ],
     "language": "python",
     "metadata": {},
     "outputs": [
      {
       "output_type": "stream",
       "stream": "stdout",
       "text": [
        "Starting pairwise querying.\n",
        "+--------------+---------+-------------+--------------+\n",
        "| Query points | # Pairs | % Complete. | Elapsed Time |\n",
        "+--------------+---------+-------------+--------------+\n",
        "| 0            | 1       | 0.196464    | 47.894ms     |\n",
        "| Done         |         | 100         | 197.058ms    |\n",
        "+--------------+---------+-------------+--------------+\n"
       ]
      },
      {
       "html": [
        "<div style=\"max-height:1000px;max-width:1500px;overflow:auto;\"><table frame=\"box\" rules=\"cols\">\n",
        "    <tr>\n",
        "        <th style=\"padding-left: 1em; padding-right: 1em; text-align: center\">query_label</th>\n",
        "        <th style=\"padding-left: 1em; padding-right: 1em; text-align: center\">reference_label</th>\n",
        "        <th style=\"padding-left: 1em; padding-right: 1em; text-align: center\">distance</th>\n",
        "        <th style=\"padding-left: 1em; padding-right: 1em; text-align: center\">rank</th>\n",
        "    </tr>\n",
        "    <tr>\n",
        "        <td style=\"padding-left: 1em; padding-right: 1em; text-align: center; vertical-align: top\">0</td>\n",
        "        <td style=\"padding-left: 1em; padding-right: 1em; text-align: center; vertical-align: top\">16289</td>\n",
        "        <td style=\"padding-left: 1em; padding-right: 1em; text-align: center; vertical-align: top\">34.623719208</td>\n",
        "        <td style=\"padding-left: 1em; padding-right: 1em; text-align: center; vertical-align: top\">1</td>\n",
        "    </tr>\n",
        "    <tr>\n",
        "        <td style=\"padding-left: 1em; padding-right: 1em; text-align: center; vertical-align: top\">0</td>\n",
        "        <td style=\"padding-left: 1em; padding-right: 1em; text-align: center; vertical-align: top\">45646</td>\n",
        "        <td style=\"padding-left: 1em; padding-right: 1em; text-align: center; vertical-align: top\">36.0068799284</td>\n",
        "        <td style=\"padding-left: 1em; padding-right: 1em; text-align: center; vertical-align: top\">2</td>\n",
        "    </tr>\n",
        "    <tr>\n",
        "        <td style=\"padding-left: 1em; padding-right: 1em; text-align: center; vertical-align: top\">0</td>\n",
        "        <td style=\"padding-left: 1em; padding-right: 1em; text-align: center; vertical-align: top\">32139</td>\n",
        "        <td style=\"padding-left: 1em; padding-right: 1em; text-align: center; vertical-align: top\">36.5200813436</td>\n",
        "        <td style=\"padding-left: 1em; padding-right: 1em; text-align: center; vertical-align: top\">3</td>\n",
        "    </tr>\n",
        "    <tr>\n",
        "        <td style=\"padding-left: 1em; padding-right: 1em; text-align: center; vertical-align: top\">0</td>\n",
        "        <td style=\"padding-left: 1em; padding-right: 1em; text-align: center; vertical-align: top\">25713</td>\n",
        "        <td style=\"padding-left: 1em; padding-right: 1em; text-align: center; vertical-align: top\">36.7548502521</td>\n",
        "        <td style=\"padding-left: 1em; padding-right: 1em; text-align: center; vertical-align: top\">4</td>\n",
        "    </tr>\n",
        "    <tr>\n",
        "        <td style=\"padding-left: 1em; padding-right: 1em; text-align: center; vertical-align: top\">0</td>\n",
        "        <td style=\"padding-left: 1em; padding-right: 1em; text-align: center; vertical-align: top\">331</td>\n",
        "        <td style=\"padding-left: 1em; padding-right: 1em; text-align: center; vertical-align: top\">36.8731228168</td>\n",
        "        <td style=\"padding-left: 1em; padding-right: 1em; text-align: center; vertical-align: top\">5</td>\n",
        "    </tr>\n",
        "</table>\n",
        "[5 rows x 4 columns]<br/>\n",
        "</div>"
       ],
       "metadata": {},
       "output_type": "pyout",
       "prompt_number": 62,
       "text": [
        "Columns:\n",
        "\tquery_label\tint\n",
        "\treference_label\tint\n",
        "\tdistance\tfloat\n",
        "\trank\tint\n",
        "\n",
        "Rows: 5\n",
        "\n",
        "Data:\n",
        "+-------------+-----------------+---------------+------+\n",
        "| query_label | reference_label |    distance   | rank |\n",
        "+-------------+-----------------+---------------+------+\n",
        "|      0      |      16289      |  34.623719208 |  1   |\n",
        "|      0      |      45646      | 36.0068799284 |  2   |\n",
        "|      0      |      32139      | 36.5200813436 |  3   |\n",
        "|      0      |      25713      | 36.7548502521 |  4   |\n",
        "|      0      |       331       | 36.8731228168 |  5   |\n",
        "+-------------+-----------------+---------------+------+\n",
        "[5 rows x 4 columns]\n"
       ]
      }
     ],
     "prompt_number": 62
    },
    {
     "cell_type": "code",
     "collapsed": false,
     "input": [
      "get_images_from_ids(cat_model.query(image_test[0:1]))[\"image\"].show()"
     ],
     "language": "python",
     "metadata": {},
     "outputs": [
      {
       "output_type": "stream",
       "stream": "stdout",
       "text": [
        "Starting pairwise querying.\n",
        "+--------------+---------+-------------+--------------+\n",
        "| Query points | # Pairs | % Complete. | Elapsed Time |\n",
        "+--------------+---------+-------------+--------------+\n",
        "| 0            | 1       | 0.196464    | 49.023ms     |\n",
        "| Done         |         | 100         | 169.505ms    |\n",
        "+--------------+---------+-------------+--------------+\n",
        "Canvas is updated and available in a tab in the default browser."
       ]
      },
      {
       "output_type": "stream",
       "stream": "stdout",
       "text": [
        "\n"
       ]
      }
     ],
     "prompt_number": 68
    },
    {
     "cell_type": "code",
     "collapsed": false,
     "input": [
      "get_images_from_ids(dog_model.query(image_test[0:1]))[\"image\"].show()"
     ],
     "language": "python",
     "metadata": {},
     "outputs": [
      {
       "output_type": "stream",
       "stream": "stdout",
       "text": [
        "Starting pairwise querying.\n",
        "+--------------+---------+-------------+--------------+\n",
        "| Query points | # Pairs | % Complete. | Elapsed Time |\n",
        "+--------------+---------+-------------+--------------+\n",
        "| 0            | 1       | 0.196464    | 44.545ms     |\n",
        "| Done         |         | 100         | 175.979ms    |\n",
        "+--------------+---------+-------------+--------------+\n",
        "Canvas is updated and available in a tab in the default browser."
       ]
      },
      {
       "output_type": "stream",
       "stream": "stdout",
       "text": [
        "\n"
       ]
      }
     ],
     "prompt_number": 69
    },
    {
     "cell_type": "markdown",
     "metadata": {},
     "source": [
      "##Calculating means"
     ]
    },
    {
     "cell_type": "code",
     "collapsed": false,
     "input": [
      "print cat_model.query(image_test[0:1])[\"distance\"].mean()"
     ],
     "language": "python",
     "metadata": {},
     "outputs": [
      {
       "output_type": "stream",
       "stream": "stdout",
       "text": [
        "Starting pairwise querying.\n",
        "+--------------+---------+-------------+--------------+\n",
        "| Query points | # Pairs | % Complete. | Elapsed Time |\n",
        "+--------------+---------+-------------+--------------+\n",
        "| 0            | 1       | 0.196464    | 44.143ms     |\n",
        "| Done         |         | 100         | 163.713ms    |\n",
        "+--------------+---------+-------------+--------------+\n",
        "36.1557307098"
       ]
      },
      {
       "output_type": "stream",
       "stream": "stdout",
       "text": [
        "\n"
       ]
      }
     ],
     "prompt_number": 28
    },
    {
     "cell_type": "code",
     "collapsed": false,
     "input": [
      "print dog_model.query(image_test[0:1])[\"distance\"].mean()"
     ],
     "language": "python",
     "metadata": {},
     "outputs": [
      {
       "output_type": "stream",
       "stream": "stdout",
       "text": [
        "Starting pairwise querying.\n",
        "+--------------+---------+-------------+--------------+\n",
        "| Query points | # Pairs | % Complete. | Elapsed Time |\n",
        "+--------------+---------+-------------+--------------+\n",
        "| 0            | 1       | 0.196464    | 42.99ms      |\n",
        "| Done         |         | 100         | 185.564ms    |\n",
        "+--------------+---------+-------------+--------------+\n",
        "37.7707113618"
       ]
      },
      {
       "output_type": "stream",
       "stream": "stdout",
       "text": [
        "\n"
       ]
      }
     ],
     "prompt_number": 29
    },
    {
     "cell_type": "code",
     "collapsed": false,
     "input": [
      "dog_test_data = image_test.filter_by(\"dog\",\"label\")\n",
      "cat_test_data = image_test.filter_by(\"cat\",\"label\")\n",
      "bird_test_data = image_test.filter_by(\"bird\",\"label\")\n",
      "automobile_test_data = image_test.filter_by(\"automobile\",\"label\")"
     ],
     "language": "python",
     "metadata": {},
     "outputs": [],
     "prompt_number": 30
    },
    {
     "cell_type": "code",
     "collapsed": false,
     "input": [
      "dog_cat_neighbours = cat_model.query(dog_test_data, k = 1)"
     ],
     "language": "python",
     "metadata": {},
     "outputs": [
      {
       "output_type": "stream",
       "stream": "stdout",
       "text": [
        "Starting blockwise querying.\n",
        "max rows per data block: 4348\n",
        "number of reference data blocks: 4\n",
        "number of query data blocks: 1\n",
        "+--------------+---------+-------------+--------------+\n",
        "| Query points | # Pairs | % Complete. | Elapsed Time |\n",
        "+--------------+---------+-------------+--------------+\n",
        "| 1000         | 127000  | 24.9509     | 555.989ms    |\n",
        "| Done         | 509000  | 100         | 605.656ms    |\n",
        "+--------------+---------+-------------+--------------+\n"
       ]
      }
     ],
     "prompt_number": 31
    },
    {
     "cell_type": "code",
     "collapsed": false,
     "input": [
      "dog_dog_neighbours = dog_model.query(dog_test_data, k = 1)"
     ],
     "language": "python",
     "metadata": {},
     "outputs": [
      {
       "output_type": "stream",
       "stream": "stdout",
       "text": [
        "Starting blockwise querying.\n",
        "max rows per data block: 4348\n",
        "number of reference data blocks: 4\n",
        "number of query data blocks: 1\n",
        "+--------------+---------+-------------+--------------+\n",
        "| Query points | # Pairs | % Complete. | Elapsed Time |\n",
        "+--------------+---------+-------------+--------------+\n",
        "| 1000         | 127000  | 24.9509     | 545.651ms    |\n",
        "| Done         | 509000  | 100         | 568.036ms    |\n",
        "+--------------+---------+-------------+--------------+\n"
       ]
      }
     ],
     "prompt_number": 32
    },
    {
     "cell_type": "code",
     "collapsed": false,
     "input": [
      "dog_bird_neighbours = bird_model.query(dog_test_data, k = 1)"
     ],
     "language": "python",
     "metadata": {},
     "outputs": [
      {
       "output_type": "stream",
       "stream": "stdout",
       "text": [
        "Starting blockwise querying.\n",
        "max rows per data block: 4348\n",
        "number of reference data blocks: 4\n",
        "number of query data blocks: 1\n",
        "+--------------+---------+-------------+--------------+\n",
        "| Query points | # Pairs | % Complete. | Elapsed Time |\n",
        "+--------------+---------+-------------+--------------+\n",
        "| 1000         | 119000  | 24.8954     | 491.47ms     |\n",
        "| Done         | 478000  | 100         | 562.979ms    |\n",
        "+--------------+---------+-------------+--------------+\n"
       ]
      }
     ],
     "prompt_number": 33
    },
    {
     "cell_type": "code",
     "collapsed": false,
     "input": [
      "dog_automobile_neighbours = automobile_model.query(dog_test_data, k = 1)"
     ],
     "language": "python",
     "metadata": {},
     "outputs": [
      {
       "output_type": "stream",
       "stream": "stdout",
       "text": [
        "Starting blockwise querying.\n",
        "max rows per data block: 4348\n",
        "number of reference data blocks: 4\n",
        "number of query data blocks: 1\n",
        "+--------------+---------+-------------+--------------+\n",
        "| Query points | # Pairs | % Complete. | Elapsed Time |\n",
        "+--------------+---------+-------------+--------------+\n",
        "| 1000         | 127000  | 24.9509     | 548.411ms    |\n",
        "| Done         | 509000  | 100         | 576.78ms     |\n",
        "+--------------+---------+-------------+--------------+\n"
       ]
      }
     ],
     "prompt_number": 34
    },
    {
     "cell_type": "code",
     "collapsed": false,
     "input": [
      "print dog_cat_neighbours"
     ],
     "language": "python",
     "metadata": {},
     "outputs": [
      {
       "output_type": "stream",
       "stream": "stdout",
       "text": [
        "+-------------+-----------------+---------------+------+\n",
        "| query_label | reference_label |    distance   | rank |\n",
        "+-------------+-----------------+---------------+------+\n",
        "|      0      |        33       | 36.4196077068 |  1   |\n",
        "|      1      |      30606      | 38.8353268874 |  1   |\n",
        "|      2      |       5545      | 36.9763410854 |  1   |\n",
        "|      3      |      19631      | 34.5750072914 |  1   |\n",
        "|      4      |       7493      |  34.778824791 |  1   |\n",
        "|      5      |      47044      | 35.1171578292 |  1   |\n",
        "|      6      |      13918      | 40.6095830913 |  1   |\n",
        "|      7      |      10981      | 39.9036867306 |  1   |\n",
        "|      8      |      45456      | 38.0674700168 |  1   |\n",
        "|      9      |      44673      | 42.7258732951 |  1   |\n",
        "+-------------+-----------------+---------------+------+\n",
        "[1000 rows x 4 columns]\n",
        "Note: Only the head of the SFrame is printed.\n",
        "You can use print_rows(num_rows=m, num_columns=n) to print more rows and columns.\n"
       ]
      }
     ],
     "prompt_number": 35
    },
    {
     "cell_type": "code",
     "collapsed": false,
     "input": [
      "dog_distances= graphlab.SFrame({\"dog_dog\" : dog_dog_neighbours[\"distance\"], \"dog_cat\" : dog_cat_neighbours[\"distance\"],\n",
      "                                \"dog_bird\" : dog_bird_neighbours[\"distance\"], \"dog_automobile\" : dog_automobile_neighbours[\"distance\"]})"
     ],
     "language": "python",
     "metadata": {},
     "outputs": [],
     "prompt_number": 38
    },
    {
     "cell_type": "code",
     "collapsed": false,
     "input": [
      "dog_distances"
     ],
     "language": "python",
     "metadata": {},
     "outputs": [
      {
       "html": [
        "<div style=\"max-height:1000px;max-width:1500px;overflow:auto;\"><table frame=\"box\" rules=\"cols\">\n",
        "    <tr>\n",
        "        <th style=\"padding-left: 1em; padding-right: 1em; text-align: center\">dog_automobile</th>\n",
        "        <th style=\"padding-left: 1em; padding-right: 1em; text-align: center\">dog_bird</th>\n",
        "        <th style=\"padding-left: 1em; padding-right: 1em; text-align: center\">dog_cat</th>\n",
        "        <th style=\"padding-left: 1em; padding-right: 1em; text-align: center\">dog_dog</th>\n",
        "    </tr>\n",
        "    <tr>\n",
        "        <td style=\"padding-left: 1em; padding-right: 1em; text-align: center; vertical-align: top\">41.9579761457</td>\n",
        "        <td style=\"padding-left: 1em; padding-right: 1em; text-align: center; vertical-align: top\">41.7538647304</td>\n",
        "        <td style=\"padding-left: 1em; padding-right: 1em; text-align: center; vertical-align: top\">36.4196077068</td>\n",
        "        <td style=\"padding-left: 1em; padding-right: 1em; text-align: center; vertical-align: top\">33.4773590373</td>\n",
        "    </tr>\n",
        "    <tr>\n",
        "        <td style=\"padding-left: 1em; padding-right: 1em; text-align: center; vertical-align: top\">46.0021331807</td>\n",
        "        <td style=\"padding-left: 1em; padding-right: 1em; text-align: center; vertical-align: top\">41.3382958925</td>\n",
        "        <td style=\"padding-left: 1em; padding-right: 1em; text-align: center; vertical-align: top\">38.8353268874</td>\n",
        "        <td style=\"padding-left: 1em; padding-right: 1em; text-align: center; vertical-align: top\">32.8458495684</td>\n",
        "    </tr>\n",
        "    <tr>\n",
        "        <td style=\"padding-left: 1em; padding-right: 1em; text-align: center; vertical-align: top\">42.9462290692</td>\n",
        "        <td style=\"padding-left: 1em; padding-right: 1em; text-align: center; vertical-align: top\">38.6157590853</td>\n",
        "        <td style=\"padding-left: 1em; padding-right: 1em; text-align: center; vertical-align: top\">36.9763410854</td>\n",
        "        <td style=\"padding-left: 1em; padding-right: 1em; text-align: center; vertical-align: top\">35.0397073189</td>\n",
        "    </tr>\n",
        "    <tr>\n",
        "        <td style=\"padding-left: 1em; padding-right: 1em; text-align: center; vertical-align: top\">41.6866060048</td>\n",
        "        <td style=\"padding-left: 1em; padding-right: 1em; text-align: center; vertical-align: top\">37.0892269954</td>\n",
        "        <td style=\"padding-left: 1em; padding-right: 1em; text-align: center; vertical-align: top\">34.5750072914</td>\n",
        "        <td style=\"padding-left: 1em; padding-right: 1em; text-align: center; vertical-align: top\">33.9010327697</td>\n",
        "    </tr>\n",
        "    <tr>\n",
        "        <td style=\"padding-left: 1em; padding-right: 1em; text-align: center; vertical-align: top\">39.2269664935</td>\n",
        "        <td style=\"padding-left: 1em; padding-right: 1em; text-align: center; vertical-align: top\">38.272288694</td>\n",
        "        <td style=\"padding-left: 1em; padding-right: 1em; text-align: center; vertical-align: top\">34.778824791</td>\n",
        "        <td style=\"padding-left: 1em; padding-right: 1em; text-align: center; vertical-align: top\">37.4849250909</td>\n",
        "    </tr>\n",
        "    <tr>\n",
        "        <td style=\"padding-left: 1em; padding-right: 1em; text-align: center; vertical-align: top\">40.5845117698</td>\n",
        "        <td style=\"padding-left: 1em; padding-right: 1em; text-align: center; vertical-align: top\">39.1462089236</td>\n",
        "        <td style=\"padding-left: 1em; padding-right: 1em; text-align: center; vertical-align: top\">35.1171578292</td>\n",
        "        <td style=\"padding-left: 1em; padding-right: 1em; text-align: center; vertical-align: top\">34.945165344</td>\n",
        "    </tr>\n",
        "    <tr>\n",
        "        <td style=\"padding-left: 1em; padding-right: 1em; text-align: center; vertical-align: top\">45.1067352961</td>\n",
        "        <td style=\"padding-left: 1em; padding-right: 1em; text-align: center; vertical-align: top\">40.523040106</td>\n",
        "        <td style=\"padding-left: 1em; padding-right: 1em; text-align: center; vertical-align: top\">40.6095830913</td>\n",
        "        <td style=\"padding-left: 1em; padding-right: 1em; text-align: center; vertical-align: top\">39.0957278345</td>\n",
        "    </tr>\n",
        "    <tr>\n",
        "        <td style=\"padding-left: 1em; padding-right: 1em; text-align: center; vertical-align: top\">41.3221140974</td>\n",
        "        <td style=\"padding-left: 1em; padding-right: 1em; text-align: center; vertical-align: top\">38.1947918393</td>\n",
        "        <td style=\"padding-left: 1em; padding-right: 1em; text-align: center; vertical-align: top\">39.9036867306</td>\n",
        "        <td style=\"padding-left: 1em; padding-right: 1em; text-align: center; vertical-align: top\">37.7696131032</td>\n",
        "    </tr>\n",
        "    <tr>\n",
        "        <td style=\"padding-left: 1em; padding-right: 1em; text-align: center; vertical-align: top\">41.8244654995</td>\n",
        "        <td style=\"padding-left: 1em; padding-right: 1em; text-align: center; vertical-align: top\">40.1567131661</td>\n",
        "        <td style=\"padding-left: 1em; padding-right: 1em; text-align: center; vertical-align: top\">38.0674700168</td>\n",
        "        <td style=\"padding-left: 1em; padding-right: 1em; text-align: center; vertical-align: top\">35.1089144603</td>\n",
        "    </tr>\n",
        "    <tr>\n",
        "        <td style=\"padding-left: 1em; padding-right: 1em; text-align: center; vertical-align: top\">45.4976929401</td>\n",
        "        <td style=\"padding-left: 1em; padding-right: 1em; text-align: center; vertical-align: top\">45.5597962603</td>\n",
        "        <td style=\"padding-left: 1em; padding-right: 1em; text-align: center; vertical-align: top\">42.7258732951</td>\n",
        "        <td style=\"padding-left: 1em; padding-right: 1em; text-align: center; vertical-align: top\">43.2422832585</td>\n",
        "    </tr>\n",
        "</table>\n",
        "[1000 rows x 4 columns]<br/>Note: Only the head of the SFrame is printed.<br/>You can use print_rows(num_rows=m, num_columns=n) to print more rows and columns.\n",
        "</div>"
       ],
       "metadata": {},
       "output_type": "pyout",
       "prompt_number": 39,
       "text": [
        "Columns:\n",
        "\tdog_automobile\tfloat\n",
        "\tdog_bird\tfloat\n",
        "\tdog_cat\tfloat\n",
        "\tdog_dog\tfloat\n",
        "\n",
        "Rows: 1000\n",
        "\n",
        "Data:\n",
        "+----------------+---------------+---------------+---------------+\n",
        "| dog_automobile |    dog_bird   |    dog_cat    |    dog_dog    |\n",
        "+----------------+---------------+---------------+---------------+\n",
        "| 41.9579761457  | 41.7538647304 | 36.4196077068 | 33.4773590373 |\n",
        "| 46.0021331807  | 41.3382958925 | 38.8353268874 | 32.8458495684 |\n",
        "| 42.9462290692  | 38.6157590853 | 36.9763410854 | 35.0397073189 |\n",
        "| 41.6866060048  | 37.0892269954 | 34.5750072914 | 33.9010327697 |\n",
        "| 39.2269664935  |  38.272288694 |  34.778824791 | 37.4849250909 |\n",
        "| 40.5845117698  | 39.1462089236 | 35.1171578292 |  34.945165344 |\n",
        "| 45.1067352961  |  40.523040106 | 40.6095830913 | 39.0957278345 |\n",
        "| 41.3221140974  | 38.1947918393 | 39.9036867306 | 37.7696131032 |\n",
        "| 41.8244654995  | 40.1567131661 | 38.0674700168 | 35.1089144603 |\n",
        "| 45.4976929401  | 45.5597962603 | 42.7258732951 | 43.2422832585 |\n",
        "+----------------+---------------+---------------+---------------+\n",
        "[1000 rows x 4 columns]\n",
        "Note: Only the head of the SFrame is printed.\n",
        "You can use print_rows(num_rows=m, num_columns=n) to print more rows and columns."
       ]
      }
     ],
     "prompt_number": 39
    },
    {
     "cell_type": "code",
     "collapsed": false,
     "input": [
      "def is_dog_correct(row):\n",
      "    if((row[\"dog_dog\"] < row[\"dog_automobile\"]) and (row[\"dog_dog\"] < row[\"dog_bird\"]) and (row[\"dog_dog\"] < row[\"dog_cat\"])):\n",
      "        return 1\n",
      "    else:\n",
      "        return 0"
     ],
     "language": "python",
     "metadata": {},
     "outputs": [],
     "prompt_number": 42
    },
    {
     "cell_type": "code",
     "collapsed": false,
     "input": [
      "is_dog_correct(dog_distances[0])"
     ],
     "language": "python",
     "metadata": {},
     "outputs": [
      {
       "metadata": {},
       "output_type": "pyout",
       "prompt_number": 43,
       "text": [
        "1"
       ]
      }
     ],
     "prompt_number": 43
    },
    {
     "cell_type": "code",
     "collapsed": false,
     "input": [
      "dog_distances.apply(is_dog_correct).sum()"
     ],
     "language": "python",
     "metadata": {},
     "outputs": [
      {
       "metadata": {},
       "output_type": "pyout",
       "prompt_number": 45,
       "text": [
        "678"
       ]
      }
     ],
     "prompt_number": 45
    },
    {
     "cell_type": "code",
     "collapsed": false,
     "input": [
      "len(dog_distances)"
     ],
     "language": "python",
     "metadata": {},
     "outputs": [
      {
       "metadata": {},
       "output_type": "pyout",
       "prompt_number": 46,
       "text": [
        "1000"
       ]
      }
     ],
     "prompt_number": 46
    },
    {
     "cell_type": "code",
     "collapsed": false,
     "input": [
      "len(dog_test_data)"
     ],
     "language": "python",
     "metadata": {},
     "outputs": [
      {
       "metadata": {},
       "output_type": "pyout",
       "prompt_number": 47,
       "text": [
        "1000"
       ]
      }
     ],
     "prompt_number": 47
    },
    {
     "cell_type": "code",
     "collapsed": false,
     "input": [
      "from __future__ import division\n",
      "print 678/1000"
     ],
     "language": "python",
     "metadata": {},
     "outputs": [
      {
       "output_type": "stream",
       "stream": "stdout",
       "text": [
        "0.678\n"
       ]
      }
     ],
     "prompt_number": 49
    },
    {
     "cell_type": "code",
     "collapsed": false,
     "input": [],
     "language": "python",
     "metadata": {},
     "outputs": []
    }
   ],
   "metadata": {}
  }
 ]
}