{
 "metadata": {
  "name": ""
 },
 "nbformat": 3,
 "nbformat_minor": 0,
 "worksheets": [
  {
   "cells": [
    {
     "cell_type": "code",
     "collapsed": false,
     "input": [
      "import graphlab"
     ],
     "language": "python",
     "metadata": {},
     "outputs": [],
     "prompt_number": 1
    },
    {
     "cell_type": "markdown",
     "metadata": {},
     "source": [
      "#Load a common image analysis dataset"
     ]
    },
    {
     "cell_type": "code",
     "collapsed": false,
     "input": [
      "train_data = graphlab.SFrame(\"image_train_data\")\n",
      "test_data = graphlab.SFrame(\"image_test_data\")"
     ],
     "language": "python",
     "metadata": {},
     "outputs": [
      {
       "output_type": "stream",
       "stream": "stderr",
       "text": [
        "/home/uzumaki/Desktop/MachineLearningSpecalization/Fundamentals/virtualEnv/lib/python2.7/site-packages/requests/packages/urllib3/util/ssl_.py:315: SNIMissingWarning: An HTTPS request has been made, but the SNI (Subject Name Indication) extension to TLS is not available on this platform. This may cause the server to present an incorrect TLS certificate, which can cause validation failures. For more information, see https://urllib3.readthedocs.org/en/latest/security.html#snimissingwarning.\n",
        "  SNIMissingWarning\n",
        "/home/uzumaki/Desktop/MachineLearningSpecalization/Fundamentals/virtualEnv/lib/python2.7/site-packages/requests/packages/urllib3/util/ssl_.py:120: InsecurePlatformWarning: A true SSLContext object is not available. This prevents urllib3 from configuring SSL appropriately and may cause certain SSL connections to fail. For more information, see https://urllib3.readthedocs.org/en/latest/security.html#insecureplatformwarning.\n",
        "  InsecurePlatformWarning\n",
        "[INFO] graphlab.cython.cy_server: GraphLab Create v2.1 started. Logging: /tmp/graphlab_server_1472189571.log\n"
       ]
      },
      {
       "output_type": "stream",
       "stream": "stderr",
       "text": [
        "INFO:graphlab.cython.cy_server:GraphLab Create v2.1 started. Logging: /tmp/graphlab_server_1472189571.log\n"
       ]
      },
      {
       "output_type": "stream",
       "stream": "stdout",
       "text": [
        "This non-commercial license of GraphLab Create for academic use is assigned to a.p.dhanushu@gmail.com and will expire on August 19, 2017.\n"
       ]
      }
     ],
     "prompt_number": 2
    },
    {
     "cell_type": "code",
     "collapsed": false,
     "input": [
      "train_data[\"image\"].show()"
     ],
     "language": "python",
     "metadata": {},
     "outputs": [
      {
       "output_type": "stream",
       "stream": "stdout",
       "text": [
        "Canvas is accessible via web browser at the URL: http://localhost:39185/index.html\n",
        "Opening Canvas in default web browser.\n"
       ]
      }
     ],
     "prompt_number": 3
    },
    {
     "cell_type": "markdown",
     "metadata": {},
     "source": [
      "#Train a classifier on the raw image pixels"
     ]
    },
    {
     "cell_type": "markdown",
     "metadata": {},
     "source": [
      "#Train a classifier on the raw image pixels"
     ]
    },
    {
     "cell_type": "code",
     "collapsed": false,
     "input": [
      "raw_pixel_model = graphlab.logistic_classifier.create(train_data,target=\"label\",features=[\"image_array\"])"
     ],
     "language": "python",
     "metadata": {},
     "outputs": [
      {
       "output_type": "stream",
       "stream": "stdout",
       "text": [
        "PROGRESS: Creating a validation set from 5 percent of training data. This may take a while.\n",
        "          You can set ``validation_set=None`` to disable validation tracking.\n",
        "\n",
        "WARNING: The number of feature dimensions in this problem is very large in comparison with the number of examples. Unless an appropriate regularization value is set, this model may not provide accurate predictions for a validation/test set.\n",
        "Logistic regression:\n",
        "--------------------------------------------------------\n",
        "Number of examples          : 1913\n",
        "Number of classes           : 4\n",
        "Number of feature columns   : 1\n",
        "Number of unpacked features : 3072\n",
        "Number of coefficients    : 9219\n",
        "Starting L-BFGS\n",
        "--------------------------------------------------------\n",
        "+-----------+----------+-----------+--------------+-------------------+---------------------+\n"
       ]
      }
     ],
     "prompt_number": 4
    },
    {
     "cell_type": "markdown",
     "metadata": {},
     "source": [
      "#Make a prediction with simple model on raw pixels"
     ]
    },
    {
     "cell_type": "code",
     "collapsed": false,
     "input": [
      "test_data[0:3][\"image\"].show()"
     ],
     "language": "python",
     "metadata": {},
     "outputs": [
      {
       "output_type": "stream",
       "stream": "stdout",
       "text": [
        "| Iteration | Passes   | Step size | Elapsed Time | Training-accuracy | Validation-accuracy |\n",
        "+-----------+----------+-----------+--------------+-------------------+---------------------+\n",
        "| 1         | 6        | 0.000020  | 4.371457     | 0.343962          | 0.423913            |\n",
        "| 2         | 8        | 1.000000  | 5.587581     | 0.373758          | 0.434783            |\n",
        "| 3         | 9        | 1.000000  | 6.535233     | 0.425510          | 0.467391            |\n",
        "| 4         | 10       | 1.000000  | 7.240130     | 0.439624          | 0.543478            |\n",
        "| 5         | 11       | 1.000000  | 7.946762     | 0.439101          | 0.532609            |\n",
        "| 6         | 12       | 1.000000  | 8.738907     | 0.451647          | 0.565217            |\n",
        "| 10        | 17       | 1.000000  | 12.316104    | 0.513853          | 0.576087            |\n",
        "+-----------+----------+-----------+--------------+-------------------+---------------------+\n",
        "TERMINATED: Iteration limit reached.\n",
        "This model may not be optimal. To improve it, consider increasing `max_iterations`.\n",
        "Canvas is updated and available in a tab in the default browser."
       ]
      },
      {
       "output_type": "stream",
       "stream": "stdout",
       "text": [
        "\n"
       ]
      }
     ],
     "prompt_number": 5
    },
    {
     "cell_type": "code",
     "collapsed": false,
     "input": [
      "test_data[0:3][\"label\"]"
     ],
     "language": "python",
     "metadata": {},
     "outputs": [
      {
       "metadata": {},
       "output_type": "pyout",
       "prompt_number": 6,
       "text": [
        "dtype: str\n",
        "Rows: 3\n",
        "['cat', 'automobile', 'cat']"
       ]
      }
     ],
     "prompt_number": 6
    },
    {
     "cell_type": "code",
     "collapsed": false,
     "input": [
      "raw_pixel_model.predict(test_data[0:3])"
     ],
     "language": "python",
     "metadata": {},
     "outputs": [
      {
       "metadata": {},
       "output_type": "pyout",
       "prompt_number": 7,
       "text": [
        "dtype: str\n",
        "Rows: 3\n",
        "['bird', 'cat', 'bird']"
       ]
      }
     ],
     "prompt_number": 7
    },
    {
     "cell_type": "markdown",
     "metadata": {},
     "source": [
      "#Evaluating raw pixel model on test data"
     ]
    },
    {
     "cell_type": "code",
     "collapsed": false,
     "input": [
      "raw_pixel_model.evaluate(test_data)"
     ],
     "language": "python",
     "metadata": {},
     "outputs": [
      {
       "metadata": {},
       "output_type": "pyout",
       "prompt_number": 8,
       "text": [
        "{'accuracy': 0.4705,\n",
        " 'auc': 0.7159309166666666,\n",
        " 'confusion_matrix': Columns:\n",
        "\ttarget_label\tstr\n",
        "\tpredicted_label\tstr\n",
        "\tcount\tint\n",
        "\n",
        "Rows: 16\n",
        "\n",
        "Data:\n",
        "+--------------+-----------------+-------+\n",
        "| target_label | predicted_label | count |\n",
        "+--------------+-----------------+-------+\n",
        "|  automobile  |       bird      |   94  |\n",
        "|     bird     |       bird      |  491  |\n",
        "|     bird     |       dog       |  195  |\n",
        "|     bird     |       cat       |  167  |\n",
        "|     cat      |       dog       |  296  |\n",
        "|     dog      |       dog       |  414  |\n",
        "|     dog      |    automobile   |  109  |\n",
        "|     cat      |       cat       |  334  |\n",
        "|     cat      |    automobile   |  170  |\n",
        "|     dog      |       bird      |  237  |\n",
        "+--------------+-----------------+-------+\n",
        "[16 rows x 3 columns]\n",
        "Note: Only the head of the SFrame is printed.\n",
        "You can use print_rows(num_rows=m, num_columns=n) to print more rows and columns.,\n",
        " 'f1_score': 0.46772473685611926,\n",
        " 'log_loss': 1.2176494001954357,\n",
        " 'precision': 0.465840110611861,\n",
        " 'recall': 0.4705,\n",
        " 'roc_curve': Columns:\n",
        "\tthreshold\tfloat\n",
        "\tfpr\tfloat\n",
        "\ttpr\tfloat\n",
        "\tp\tint\n",
        "\tn\tint\n",
        "\tclass\tint\n",
        "\n",
        "Rows: 400004\n",
        "\n",
        "Data:\n",
        "+-----------+-----+-----+------+------+-------+\n",
        "| threshold | fpr | tpr |  p   |  n   | class |\n",
        "+-----------+-----+-----+------+------+-------+\n",
        "|    0.0    | 1.0 | 1.0 | 1000 | 3000 |   0   |\n",
        "|   1e-05   | 1.0 | 1.0 | 1000 | 3000 |   0   |\n",
        "|   2e-05   | 1.0 | 1.0 | 1000 | 3000 |   0   |\n",
        "|   3e-05   | 1.0 | 1.0 | 1000 | 3000 |   0   |\n",
        "|   4e-05   | 1.0 | 1.0 | 1000 | 3000 |   0   |\n",
        "|   5e-05   | 1.0 | 1.0 | 1000 | 3000 |   0   |\n",
        "|   6e-05   | 1.0 | 1.0 | 1000 | 3000 |   0   |\n",
        "|   7e-05   | 1.0 | 1.0 | 1000 | 3000 |   0   |\n",
        "|   8e-05   | 1.0 | 1.0 | 1000 | 3000 |   0   |\n",
        "|   9e-05   | 1.0 | 1.0 | 1000 | 3000 |   0   |\n",
        "+-----------+-----+-----+------+------+-------+\n",
        "[400004 rows x 6 columns]\n",
        "Note: Only the head of the SFrame is printed.\n",
        "You can use print_rows(num_rows=m, num_columns=n) to print more rows and columns.}"
       ]
      }
     ],
     "prompt_number": 8
    },
    {
     "cell_type": "markdown",
     "metadata": {},
     "source": [
      "#Can we improve the model using deep features"
     ]
    },
    {
     "cell_type": "code",
     "collapsed": false,
     "input": [
      "len(train_data)"
     ],
     "language": "python",
     "metadata": {},
     "outputs": [
      {
       "metadata": {},
       "output_type": "pyout",
       "prompt_number": 9,
       "text": [
        "2005"
       ]
      }
     ],
     "prompt_number": 9
    },
    {
     "cell_type": "code",
     "collapsed": false,
     "input": [
      "print len(train_data[0][\"deep_features\"])"
     ],
     "language": "python",
     "metadata": {},
     "outputs": [
      {
       "output_type": "stream",
       "stream": "stdout",
       "text": [
        "4096\n"
       ]
      }
     ],
     "prompt_number": 15
    },
    {
     "cell_type": "markdown",
     "metadata": {},
     "source": [
      "#Given the deep features , let's train a classifier"
     ]
    },
    {
     "cell_type": "code",
     "collapsed": false,
     "input": [
      "deep_feautures_model = graphlab.logistic_classifier.create(train_data,target=\"label\",features=[\"deep_features\"])"
     ],
     "language": "python",
     "metadata": {},
     "outputs": [
      {
       "output_type": "stream",
       "stream": "stdout",
       "text": [
        "PROGRESS: Creating a validation set from 5 percent of training data. This may take a while.\n",
        "          You can set ``validation_set=None`` to disable validation tracking.\n",
        "\n",
        "WARNING: The number of feature dimensions in this problem is very large in comparison with the number of examples. Unless an appropriate regularization value is set, this model may not provide accurate predictions for a validation/test set.\n",
        "WARNING: Detected extremely low variance for feature(s) 'deep_features' because all entries are nearly the same.\n",
        "Proceeding with model training using all features. If the model does not provide results of adequate quality, exclude the above mentioned feature(s) from the input dataset.\n",
        "Logistic regression:\n",
        "--------------------------------------------------------\n",
        "Number of examples          : 1907\n",
        "Number of classes           : 4\n",
        "Number of feature columns   : 1\n",
        "Number of unpacked features : 4096\n",
        "Number of coefficients    : 12291\n",
        "Starting L-BFGS\n",
        "--------------------------------------------------------\n",
        "+-----------+----------+-----------+--------------+-------------------+---------------------+\n",
        "| Iteration | Passes   | Step size | Elapsed Time | Training-accuracy | Validation-accuracy |\n",
        "+-----------+----------+-----------+--------------+-------------------+---------------------+\n",
        "| 1         | 5        | 0.000131  | 4.082135     | 0.742003          | 0.704082            |\n",
        "| 2         | 9        | 0.250000  | 7.873322     | 0.763503          | 0.642857            |\n",
        "| 3         | 10       | 0.250000  | 9.189952     | 0.769795          | 0.642857            |\n",
        "| 4         | 11       | 0.250000  | 10.548472    | 0.778186          | 0.642857            |\n",
        "| 5         | 12       | 0.250000  | 11.837951    | 0.780283          | 0.653061            |\n",
        "| 6         | 13       | 0.250000  | 13.293381    | 0.790246          | 0.673469            |\n",
        "| 7         | 14       | 0.250000  | 14.509063    | 0.800210          | 0.714286            |\n",
        "| 8         | 15       | 0.250000  | 15.843082    | 0.818563          | 0.724490            |\n",
        "| 9         | 16       | 0.250000  | 17.096591    | 0.845307          | 0.714286            |\n",
        "| 10        | 17       | 0.250000  | 18.381910    | 0.851075          | 0.704082            |\n",
        "+-----------+----------+-----------+--------------+-------------------+---------------------+\n",
        "TERMINATED: Iteration limit reached.\n",
        "This model may not be optimal. To improve it, consider increasing `max_iterations`.\n"
       ]
      }
     ],
     "prompt_number": 16
    },
    {
     "cell_type": "markdown",
     "metadata": {},
     "source": [
      "#Apply deep_features_model to first few images on test_data"
     ]
    },
    {
     "cell_type": "code",
     "collapsed": false,
     "input": [
      "test_data[0:3][\"image\"].show()"
     ],
     "language": "python",
     "metadata": {},
     "outputs": [
      {
       "output_type": "stream",
       "stream": "stdout",
       "text": [
        "Canvas is updated and available in a tab in the default browser.\n"
       ]
      }
     ],
     "prompt_number": 17
    },
    {
     "cell_type": "code",
     "collapsed": false,
     "input": [
      "deep_feautures_model.predict(test_data[0:3])"
     ],
     "language": "python",
     "metadata": {},
     "outputs": [
      {
       "metadata": {},
       "output_type": "pyout",
       "prompt_number": 18,
       "text": [
        "dtype: str\n",
        "Rows: 3\n",
        "['cat', 'automobile', 'cat']"
       ]
      }
     ],
     "prompt_number": 18
    },
    {
     "cell_type": "markdown",
     "metadata": {},
     "source": [
      "#Compute test_data accuracy of deep_features_model"
     ]
    },
    {
     "cell_type": "code",
     "collapsed": false,
     "input": [
      "deep_feautures_model.evaluate(test_data)"
     ],
     "language": "python",
     "metadata": {},
     "outputs": [
      {
       "metadata": {},
       "output_type": "pyout",
       "prompt_number": 19,
       "text": [
        "{'accuracy': 0.78675,\n",
        " 'auc': 0.9394548333333331,\n",
        " 'confusion_matrix': Columns:\n",
        "\ttarget_label\tstr\n",
        "\tpredicted_label\tstr\n",
        "\tcount\tint\n",
        "\n",
        "Rows: 16\n",
        "\n",
        "Data:\n",
        "+--------------+-----------------+-------+\n",
        "| target_label | predicted_label | count |\n",
        "+--------------+-----------------+-------+\n",
        "|  automobile  |       cat       |   12  |\n",
        "|     dog      |       cat       |  227  |\n",
        "|  automobile  |       dog       |   5   |\n",
        "|     cat      |       bird      |  110  |\n",
        "|     bird     |       dog       |   42  |\n",
        "|     dog      |       bird      |   64  |\n",
        "|     cat      |    automobile   |   40  |\n",
        "|     bird     |       cat       |  105  |\n",
        "|     dog      |    automobile   |   20  |\n",
        "|     dog      |       dog       |  689  |\n",
        "+--------------+-----------------+-------+\n",
        "[16 rows x 3 columns]\n",
        "Note: Only the head of the SFrame is printed.\n",
        "You can use print_rows(num_rows=m, num_columns=n) to print more rows and columns.,\n",
        " 'f1_score': 0.785560462525845,\n",
        " 'log_loss': 0.5639585377590792,\n",
        " 'precision': 0.7854643895232859,\n",
        " 'recall': 0.78675,\n",
        " 'roc_curve': Columns:\n",
        "\tthreshold\tfloat\n",
        "\tfpr\tfloat\n",
        "\ttpr\tfloat\n",
        "\tp\tint\n",
        "\tn\tint\n",
        "\tclass\tint\n",
        "\n",
        "Rows: 400004\n",
        "\n",
        "Data:\n",
        "+-----------+----------------+-----+------+------+-------+\n",
        "| threshold |      fpr       | tpr |  p   |  n   | class |\n",
        "+-----------+----------------+-----+------+------+-------+\n",
        "|    0.0    |      1.0       | 1.0 | 1000 | 3000 |   0   |\n",
        "|   1e-05   |     0.978      | 1.0 | 1000 | 3000 |   0   |\n",
        "|   2e-05   | 0.974333333333 | 1.0 | 1000 | 3000 |   0   |\n",
        "|   3e-05   |     0.969      | 1.0 | 1000 | 3000 |   0   |\n",
        "|   4e-05   | 0.964666666667 | 1.0 | 1000 | 3000 |   0   |\n",
        "|   5e-05   | 0.959333333333 | 1.0 | 1000 | 3000 |   0   |\n",
        "|   6e-05   | 0.955666666667 | 1.0 | 1000 | 3000 |   0   |\n",
        "|   7e-05   | 0.953333333333 | 1.0 | 1000 | 3000 |   0   |\n",
        "|   8e-05   | 0.950666666667 | 1.0 | 1000 | 3000 |   0   |\n",
        "|   9e-05   |     0.947      | 1.0 | 1000 | 3000 |   0   |\n",
        "+-----------+----------------+-----+------+------+-------+\n",
        "[400004 rows x 6 columns]\n",
        "Note: Only the head of the SFrame is printed.\n",
        "You can use print_rows(num_rows=m, num_columns=n) to print more rows and columns.}"
       ]
      }
     ],
     "prompt_number": 19
    },
    {
     "cell_type": "code",
     "collapsed": false,
     "input": [],
     "language": "python",
     "metadata": {},
     "outputs": []
    }
   ],
   "metadata": {}
  }
 ]
}